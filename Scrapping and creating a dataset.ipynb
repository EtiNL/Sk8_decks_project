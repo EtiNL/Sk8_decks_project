{
 "cells": [
  {
   "cell_type": "markdown",
   "id": "52321026",
   "metadata": {},
   "source": [
    "# Scrapping and creating a dataset of skateboards\n",
    "\n",
    "scraped on https://www.deckslog.com/skateboard/"
   ]
  },
  {
   "cell_type": "code",
   "execution_count": 5,
   "id": "981f86f2",
   "metadata": {},
   "outputs": [],
   "source": [
    "import requests\n",
    "from bs4 import BeautifulSoup\n",
    "\n",
    "import numpy as np\n",
    "import pandas as pd\n",
    "\n",
    "%matplotlib inline\n",
    "import matplotlib"
   ]
  },
  {
   "cell_type": "code",
   "execution_count": 6,
   "id": "1847fcf5",
   "metadata": {},
   "outputs": [],
   "source": [
    "import sys\n",
    "sys.setrecursionlimit(100000)"
   ]
  },
  {
   "cell_type": "code",
   "execution_count": 15,
   "id": "85b4c2c6",
   "metadata": {},
   "outputs": [],
   "source": [
    "page = 1\n",
    "url = f'https://www.deckslog.com/skateboard/page/{page}/'"
   ]
  },
  {
   "cell_type": "code",
   "execution_count": 16,
   "id": "938b679c",
   "metadata": {},
   "outputs": [],
   "source": [
    "# This is where we do an HTTP request to get the HTML from the website\n",
    "response = requests.get(url)\n",
    "\n",
    "# And this is where we feed that HTML to the parser\n",
    "soup = BeautifulSoup(response.content, \"html.parser\")"
   ]
  },
  {
   "cell_type": "code",
   "execution_count": 17,
   "id": "80d0f220",
   "metadata": {},
   "outputs": [],
   "source": [
    "boards_html = soup.find_all(\"div\", class_=\"card\")"
   ]
  },
  {
   "cell_type": "markdown",
   "id": "f51957dd",
   "metadata": {},
   "source": [
    "## Parsing _one_ board"
   ]
  },
  {
   "cell_type": "code",
   "execution_count": 18,
   "id": "961e8131",
   "metadata": {},
   "outputs": [
    {
     "data": {
      "text/plain": [
       "<div class=\"card\"><div class=\"card-media\"> <a href=\"https://www.deckslog.com/skateboard/skate-mental-alien-vs-predator-night-8-4/\"> <img alt=\"Skate Mental'\" class=\"card-img-top\" src=\"https://www.deckslog.com/wp-content/uploads/2022/12/SkateMentalAlienVsPredatorNightDeckcopy.jpg\"/> </a></div><div class=\"card-body\"><h3 class=\"card-title\"> Skate Mental / AlienVs Predator Night</h3><div class=\"card-text meta-info\"><div class=\"lineitem lineitem_company\"><div class=\"label\">Company:</div><div class=\"content\"><span>Skate Mental</span></div></div><div class=\"lineitem lineitem_artist\"><div class=\"label\">Artist:</div><div class=\"content\"><span></span></div></div><div class=\"lineitem lineitem_year\"><div class=\"label\">Released:</div><div class=\"content\"><span></span></div></div></div></div></div>"
      ]
     },
     "execution_count": 18,
     "metadata": {},
     "output_type": "execute_result"
    }
   ],
   "source": [
    "boards_html[0]"
   ]
  },
  {
   "cell_type": "code",
   "execution_count": 14,
   "id": "199036d8",
   "metadata": {},
   "outputs": [
    {
     "data": {
      "text/plain": [
       "<div class=\"card\"><div class=\"card-media\"> <a href=\"https://www.deckslog.com/skateboard/vision-tom-groholski-frankenstein-gonz/\"> <img alt=\"Vision'\" class=\"card-img-top\" src=\"https://www.deckslog.com/wp-content/uploads/2022/11/blIAAOSwrDdjSyoU.jpg\"/> </a></div><div class=\"card-body\"><h3 class=\"card-title\"> Vision / Frankenstein</h3><div class=\"card-text meta-info\"><div class=\"lineitem lineitem_company\"><div class=\"label\">Company:</div><div class=\"content\"><span>Vision</span></div></div><div class=\"lineitem lineitem_artist\"><div class=\"label\">Artist:</div><div class=\"content\"><span></span></div></div><div class=\"lineitem lineitem_year\"><div class=\"label\">Released:</div><div class=\"content\"><span></span></div></div></div></div></div>"
      ]
     },
     "execution_count": 14,
     "metadata": {},
     "output_type": "execute_result"
    }
   ],
   "source": [
    "boards_html[1]"
   ]
  },
  {
   "cell_type": "code",
   "execution_count": null,
   "id": "14fa853b",
   "metadata": {},
   "outputs": [],
   "source": []
  }
 ],
 "metadata": {
  "kernelspec": {
   "display_name": "Python 3 (ipykernel)",
   "language": "python",
   "name": "python3"
  },
  "language_info": {
   "codemirror_mode": {
    "name": "ipython",
    "version": 3
   },
   "file_extension": ".py",
   "mimetype": "text/x-python",
   "name": "python",
   "nbconvert_exporter": "python",
   "pygments_lexer": "ipython3",
   "version": "3.10.6"
  },
  "toc": {
   "base_numbering": 1,
   "nav_menu": {},
   "number_sections": true,
   "sideBar": true,
   "skip_h1_title": false,
   "title_cell": "Table of Contents",
   "title_sidebar": "Contents",
   "toc_cell": false,
   "toc_position": {},
   "toc_section_display": true,
   "toc_window_display": false
  }
 },
 "nbformat": 4,
 "nbformat_minor": 5
}
