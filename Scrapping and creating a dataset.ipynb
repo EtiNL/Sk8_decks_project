{
 "cells": [
  {
   "cell_type": "markdown",
   "id": "79f328bd",
   "metadata": {},
   "source": [
    "# Scrapping and creating a dataset of skateboards\n",
    "\n",
    "scraped on https://www.deckslog.com/skateboard/"
   ]
  },
  {
   "cell_type": "code",
   "execution_count": 5,
   "id": "009f3ae4",
   "metadata": {},
   "outputs": [],
   "source": [
    "import requests\n",
    "from bs4 import BeautifulSoup\n",
    "\n",
    "import numpy as np\n",
    "import pandas as pd\n",
    "\n",
    "%matplotlib inline\n",
    "import matplotlib"
   ]
  },
  {
   "cell_type": "code",
   "execution_count": 6,
   "id": "acc81332",
   "metadata": {},
   "outputs": [],
   "source": [
    "import sys\n",
    "sys.setrecursionlimit(100000)"
   ]
  },
  {
   "cell_type": "code",
   "execution_count": 15,
   "id": "2ea3528e",
   "metadata": {},
   "outputs": [],
   "source": [
    "page = 1\n",
    "url = f'https://www.deckslog.com/skateboard/page/{page}/'"
   ]
  },
  {
   "cell_type": "code",
   "execution_count": 16,
   "id": "9f644efa",
   "metadata": {},
   "outputs": [],
   "source": [
    "# This is where we do an HTTP request to get the HTML from the website\n",
    "response = requests.get(url)\n",
    "\n",
    "# And this is where we feed that HTML to the parser\n",
    "soup = BeautifulSoup(response.content, \"html.parser\")"
   ]
  },
  {
   "cell_type": "code",
   "execution_count": 17,
   "id": "12edac3c",
   "metadata": {},
   "outputs": [],
   "source": [
    "boards_html = soup.find_all(\"div\", class_=\"card\")"
   ]
  },
  {
   "cell_type": "markdown",
   "id": "e1bacee7",
   "metadata": {},
   "source": [
    "## Parsing _one_ board"
   ]
  },
  {
   "cell_type": "code",
   "execution_count": 18,
   "id": "34382629",
   "metadata": {},
   "outputs": [
    {
     "data": {
      "text/plain": [
       "<div class=\"card\"><div class=\"card-media\"> <a href=\"https://www.deckslog.com/skateboard/skate-mental-alien-vs-predator-night-8-4/\"> <img alt=\"Skate Mental'\" class=\"card-img-top\" src=\"https://www.deckslog.com/wp-content/uploads/2022/12/SkateMentalAlienVsPredatorNightDeckcopy.jpg\"/> </a></div><div class=\"card-body\"><h3 class=\"card-title\"> Skate Mental / AlienVs Predator Night</h3><div class=\"card-text meta-info\"><div class=\"lineitem lineitem_company\"><div class=\"label\">Company:</div><div class=\"content\"><span>Skate Mental</span></div></div><div class=\"lineitem lineitem_artist\"><div class=\"label\">Artist:</div><div class=\"content\"><span></span></div></div><div class=\"lineitem lineitem_year\"><div class=\"label\">Released:</div><div class=\"content\"><span></span></div></div></div></div></div>"
      ]
     },
     "execution_count": 18,
     "metadata": {},
     "output_type": "execute_result"
    }
   ],
   "source": [
    "boards_html[0]"
   ]
  },
  {
   "cell_type": "code",
   "execution_count": 35,
   "id": "4c60facd",
   "metadata": {},
   "outputs": [
    {
     "data": {
      "text/plain": [
       "(' Skate Mental / AlienVs Predator Night', 'Skate Mental')"
      ]
     },
     "execution_count": 35,
     "metadata": {},
     "output_type": "execute_result"
    }
   ],
   "source": [
    "board_title=boards_html[0].find('h3', class_=\"card-title\").string\n",
    "board_company=boards_html[0].find('div', class_=\"lineitem lineitem_company\").find('div', class_='content').find('span').string\n",
    "board_image_hyperlink=boards_html[0].find('div', class_=\"card-media\").find('img').attrs\n",
    "board_title,board_company"
   ]
  },
  {
   "cell_type": "code",
   "execution_count": 38,
   "id": "db2616b4",
   "metadata": {},
   "outputs": [
    {
     "data": {
      "text/plain": [
       "{'src': 'https://www.deckslog.com/wp-content/uploads/2022/12/SkateMentalAlienVsPredatorNightDeckcopy.jpg',\n",
       " 'alt': \"Skate Mental'\",\n",
       " 'class': ['card-img-top']}"
      ]
     },
     "execution_count": 38,
     "metadata": {},
     "output_type": "execute_result"
    }
   ],
   "source": [
    "board_image_hyperlink.attrs"
   ]
  },
  {
   "cell_type": "code",
   "execution_count": null,
   "id": "cc0fed5c",
   "metadata": {},
   "outputs": [],
   "source": []
  }
 ],
 "metadata": {
  "kernelspec": {
   "display_name": "Python 3 (ipykernel)",
   "language": "python",
   "name": "python3"
  },
  "language_info": {
   "codemirror_mode": {
    "name": "ipython",
    "version": 3
   },
   "file_extension": ".py",
   "mimetype": "text/x-python",
   "name": "python",
   "nbconvert_exporter": "python",
   "pygments_lexer": "ipython3",
   "version": "3.10.6"
  },
  "toc": {
   "base_numbering": 1,
   "nav_menu": {},
   "number_sections": true,
   "sideBar": true,
   "skip_h1_title": false,
   "title_cell": "Table of Contents",
   "title_sidebar": "Contents",
   "toc_cell": false,
   "toc_position": {},
   "toc_section_display": true,
   "toc_window_display": false
  }
 },
 "nbformat": 4,
 "nbformat_minor": 5
}
